{
 "cells": [
  {
   "cell_type": "code",
   "execution_count": 2,
   "metadata": {},
   "outputs": [],
   "source": [
    "from bing_image_downloader import downloader\n",
    "import os\n",
    "import csv\n",
    "import shutil"
   ]
  },
  {
   "cell_type": "code",
   "execution_count": 3,
   "metadata": {},
   "outputs": [],
   "source": [
    "# from bing_image_downloader import downloader\n",
    "\n",
    "def download_images(request):\n",
    "\n",
    "    # “””Store downloaded images in a directory.\n",
    "\n",
    "    # Parameters:\n",
    "\n",
    "    # request: list of queries to search for\n",
    "\n",
    "        # Return: Images downloaded that match request\n",
    "\n",
    "        # “””\n",
    "\n",
    "    # print(request)\n",
    "\n",
    "    downloader.download(request, \n",
    "\n",
    "                limit=250, \n",
    "\n",
    "                output_dir='images', \n",
    "\n",
    "                adult_filter_off=True, \n",
    "\n",
    "                force_replace=False, \n",
    "\n",
    "                timeout=60,\n",
    "                \n",
    "                filter = ['photo'],\n",
    "                )\n",
    "\n"
   ]
  },
  {
   "cell_type": "code",
   "execution_count": 1,
   "metadata": {},
   "outputs": [],
   "source": [
    "def cleanup(filename, filepath):\n",
    "    # Get a list of all files in the folder\n",
    "    files = os.listdir(filepath)\n",
    "\n",
    "    # Sort the files based on their names\n",
    "    files.sort()\n",
    "\n",
    "    # Track the index for renaming\n",
    "    index = 1\n",
    "\n",
    "    # Iterate over the files and rename them\n",
    "    for filename in files:\n",
    "        # Extract the file extension\n",
    "        _, ext = os.path.splitext(filename)\n",
    "        \n",
    "        # Construct the new filename\n",
    "        new_filename = f'{filename}{index}{ext}'\n",
    "        \n",
    "        # Rename the file\n",
    "        os.rename(os.path.join(filepath, filename), os.path.join(filepath, new_filename))\n",
    "        \n",
    "        # Increment the index\n",
    "        index += 1"
   ]
  },
  {
   "cell_type": "markdown",
   "metadata": {},
   "source": [
    "### Add types of photos you want to download to search array (ex: 'weapons' , 'kkk', 'trump') and it will create a new folder called 'weapons'/'kkk' and add images to it from bing."
   ]
  },
  {
   "cell_type": "code",
   "execution_count": 3,
   "metadata": {},
   "outputs": [],
   "source": [
    "search_array = []\n",
    "\n",
    "for string in search_array:\n",
    "    download_images(string)"
   ]
  },
  {
   "cell_type": "markdown",
   "metadata": {},
   "source": [
    "# After curating and cleaning up the images you have downloaded run following to reorder files."
   ]
  },
  {
   "cell_type": "code",
   "execution_count": 4,
   "metadata": {},
   "outputs": [],
   "source": [
    "\n",
    "filename = 'Warhorse' # fill in what you want images to be renamed\n",
    "filepath = 'images/warhorse'  # Update this with the path to your folder\n",
    "cleanup(filename, filepath)\n"
   ]
  },
  {
   "cell_type": "code",
   "execution_count": null,
   "metadata": {},
   "outputs": [],
   "source": []
  },
  {
   "cell_type": "code",
   "execution_count": null,
   "metadata": {},
   "outputs": [],
   "source": []
  },
  {
   "cell_type": "code",
   "execution_count": null,
   "metadata": {},
   "outputs": [],
   "source": []
  },
  {
   "cell_type": "code",
   "execution_count": null,
   "metadata": {},
   "outputs": [],
   "source": []
  },
  {
   "cell_type": "code",
   "execution_count": null,
   "metadata": {},
   "outputs": [],
   "source": []
  }
 ],
 "metadata": {
  "kernelspec": {
   "display_name": "base",
   "language": "python",
   "name": "python3"
  },
  "language_info": {
   "codemirror_mode": {
    "name": "ipython",
    "version": 3
   },
   "file_extension": ".py",
   "mimetype": "text/x-python",
   "name": "python",
   "nbconvert_exporter": "python",
   "pygments_lexer": "ipython3",
   "version": "3.11.5"
  },
  "orig_nbformat": 4
 },
 "nbformat": 4,
 "nbformat_minor": 2
}
